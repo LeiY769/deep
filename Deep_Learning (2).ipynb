{
  "metadata": {
    "kernelspec": {
      "display_name": "Python 3",
      "name": "python3"
    },
    "language_info": {
      "name": "python",
      "version": "3.10.12",
      "mimetype": "text/x-python",
      "codemirror_mode": {
        "name": "ipython",
        "version": 3
      },
      "pygments_lexer": "ipython3",
      "nbconvert_exporter": "python",
      "file_extension": ".py"
    },
    "kaggle": {
      "accelerator": "none",
      "dataSources": [
        {
          "sourceId": 8940939,
          "sourceType": "datasetVersion",
          "datasetId": 5379810
        }
      ],
      "dockerImageVersionId": 30615,
      "isInternetEnabled": false,
      "language": "python",
      "sourceType": "notebook",
      "isGpuEnabled": false
    },
    "colab": {
      "name": "Deep-Learning",
      "provenance": []
    }
  },
  "nbformat_minor": 0,
  "nbformat": 4,
  "cells": [
    {
      "source": [
        "\n",
        "# IMPORTANT: RUN THIS CELL IN ORDER TO IMPORT YOUR KAGGLE DATA SOURCES\n",
        "# TO THE CORRECT LOCATION (/kaggle/input) IN YOUR NOTEBOOK,\n",
        "# THEN FEEL FREE TO DELETE THIS CELL.\n",
        "# NOTE: THIS NOTEBOOK ENVIRONMENT DIFFERS FROM KAGGLE'S PYTHON\n",
        "# ENVIRONMENT SO THERE MAY BE MISSING LIBRARIES USED BY YOUR\n",
        "# NOTEBOOK.\n",
        "\n",
        "import os\n",
        "import sys\n",
        "from tempfile import NamedTemporaryFile\n",
        "from urllib.request import urlopen\n",
        "from urllib.parse import unquote, urlparse\n",
        "from urllib.error import HTTPError\n",
        "from zipfile import ZipFile\n",
        "import tarfile\n",
        "import shutil\n",
        "\n",
        "CHUNK_SIZE = 40960\n",
        "DATA_SOURCE_MAPPING ='usis10k:https%3A%2F%2Fstorage.googleapis.com%2Fkaggle-data-sets%2F5379810%2F8940939%2Fbundle%2Farchive.zip%3FX-Goog-Algorithm%3DGOOG4-RSA-SHA256%26X-Goog-Credential%3Dgcp-kaggle-com%2540kaggle-161607.iam.gserviceaccount.com%252F20240805%252Fauto%252Fstorage%252Fgoog4_request%26X-Goog-Date%3D20240805T011801Z%26X-Goog-Expires%3D259200%26X-Goog-SignedHeaders%3Dhost%26X-Goog-Signature%3Daa916368e3954afbda80d10e34134ee5fa2c648fcb7a689782c14c0bc4d867d1e03e9db6aec4ac11379f4d201cd9d3333d0a764a657108ccce051879f728fbd4a89c9a5de477bb48c924c939c5fb877a7953f43e52821b7b9a949c81d3ae864f461b19faba4d77d422c6afc67dd5d83ffb6d0f627cd39d52652631efc1a7998b8115a76c710c09d1366e590349cf69bc527bd1092dcb1c2840c64fe586045f3e5574975e3d6899b0f05bfed7b7e24878fb5e18201c4fa1bf6ace3580cbf521d8aa7c1b16d7c3101516592665215752572c6fa3de9765bee53c422cca12f880b35bcd2230208e0daa073cef979a8761ee2b32f66efc08f5a128c1f2bc04aebee3'\n",
        "KAGGLE_INPUT_PATH='/kaggle/input'\n",
        "KAGGLE_WORKING_PATH='/kaggle/working'\n",
        "KAGGLE_SYMLINK='kaggle'\n",
        "\n",
        "!umount /kaggle/input/ 2> /dev/null\n",
        "shutil.rmtree('/kaggle/input', ignore_errors=True)\n",
        "os.makedirs(KAGGLE_INPUT_PATH, 0o777, exist_ok=True)\n",
        "os.makedirs(KAGGLE_WORKING_PATH, 0o777, exist_ok=True)\n",
        "\n",
        "try:\n",
        "  os.symlink(KAGGLE_INPUT_PATH, os.path.join(\"..\", 'input'), target_is_directory=True)\n",
        "except FileExistsError:\n",
        "  pass\n",
        "try:\n",
        "  os.symlink(KAGGLE_WORKING_PATH, os.path.join(\"..\", 'working'), target_is_directory=True)\n",
        "except FileExistsError:\n",
        "  pass\n",
        "\n",
        "for data_source_mapping in DATA_SOURCE_MAPPING.split(','):\n",
        "    directory, download_url_encoded = data_source_mapping.split(':')\n",
        "    download_url = unquote(download_url_encoded)\n",
        "    filename = urlparse(download_url).path\n",
        "    destination_path = os.path.join(KAGGLE_INPUT_PATH, directory)\n",
        "    try:\n",
        "        with urlopen(download_url) as fileres, NamedTemporaryFile() as tfile:\n",
        "            total_length = fileres.headers['content-length']\n",
        "            print(f'Downloading {directory}, {total_length} bytes compressed')\n",
        "            dl = 0\n",
        "            data = fileres.read(CHUNK_SIZE)\n",
        "            while len(data) > 0:\n",
        "                dl += len(data)\n",
        "                tfile.write(data)\n",
        "                done = int(50 * dl / int(total_length))\n",
        "                sys.stdout.write(f\"\\r[{'=' * done}{' ' * (50-done)}] {dl} bytes downloaded\")\n",
        "                sys.stdout.flush()\n",
        "                data = fileres.read(CHUNK_SIZE)\n",
        "            if filename.endswith('.zip'):\n",
        "              with ZipFile(tfile) as zfile:\n",
        "                zfile.extractall(destination_path)\n",
        "            else:\n",
        "              with tarfile.open(tfile.name) as tarfile:\n",
        "                tarfile.extractall(destination_path)\n",
        "            print(f'\\nDownloaded and uncompressed: {directory}')\n",
        "    except HTTPError as e:\n",
        "        print(f'Failed to load (likely expired) {download_url} to path {destination_path}')\n",
        "        continue\n",
        "    except OSError as e:\n",
        "        print(f'Failed to load {download_url} to path {destination_path}')\n",
        "        continue\n",
        "\n",
        "print('Data source import complete.')\n"
      ],
      "metadata": {
        "id": "8RjA6r0Nskka",
        "outputId": "b79e16dd-ba21-4b0d-ca3d-b1be46519df6",
        "colab": {
          "base_uri": "https://localhost:8080/"
        }
      },
      "cell_type": "code",
      "outputs": [
        {
          "output_type": "stream",
          "name": "stdout",
          "text": [
            "Downloading usis10k, 457855673 bytes compressed\n",
            "[==================================================] 457855673 bytes downloaded\n",
            "Downloaded and uncompressed: usis10k\n",
            "Data source import complete.\n"
          ]
        }
      ],
      "execution_count": 36
    },
    {
      "cell_type": "code",
      "source": [
        "import os\n",
        "from os import path\n",
        "\n",
        "import json"
      ],
      "metadata": {
        "execution": {
          "iopub.status.busy": "2024-07-16T11:15:08.778027Z",
          "iopub.execute_input": "2024-07-16T11:15:08.779235Z",
          "iopub.status.idle": "2024-07-16T11:15:08.783998Z",
          "shell.execute_reply.started": "2024-07-16T11:15:08.779188Z",
          "shell.execute_reply": "2024-07-16T11:15:08.782664Z"
        },
        "trusted": true,
        "id": "EVqHlQ-2skke"
      },
      "execution_count": 37,
      "outputs": []
    },
    {
      "cell_type": "code",
      "source": [
        "import matplotlib.pyplot as plt\n",
        "import numpy as np\n",
        "\n",
        "import torch\n",
        "import torch.nn as nn\n",
        "import torch.nn.functional as F\n",
        "import torch.optim as optim\n",
        "import torch.utils.data as data\n",
        "\n",
        "\n",
        "from PIL import Image, ImageDraw\n",
        "from torchvision import datasets, transforms, utils"
      ],
      "metadata": {
        "execution": {
          "iopub.status.busy": "2024-07-16T11:15:08.78586Z",
          "iopub.execute_input": "2024-07-16T11:15:08.786246Z",
          "iopub.status.idle": "2024-07-16T11:15:12.431023Z",
          "shell.execute_reply.started": "2024-07-16T11:15:08.786213Z",
          "shell.execute_reply": "2024-07-16T11:15:12.430087Z"
        },
        "trusted": true,
        "id": "Xi82W7bvskkf"
      },
      "execution_count": 38,
      "outputs": []
    },
    {
      "cell_type": "code",
      "source": [
        "def show_images(img):\n",
        "    plt.imshow(transforms.functional.to_pil_image(img))\n",
        "    plt.show()\n",
        "\n",
        "\n",
        "def show_images_with_masks(images, masks,ids):\n",
        "    fig, axs = plt.subplots(1, len(masks) + 1, figsize=(15, 5))\n",
        "\n",
        "    axs[0].imshow(images.permute(1, 2, 0).cpu().numpy())\n",
        "    axs[0].axis('off')\n",
        "    axs[0].set_title('Image')\n",
        "    print(len(ids), len(masks))\n",
        "    for i, mask in enumerate(masks):\n",
        "        if mask.dim() == 2:\n",
        "            mask = mask.unsqueeze(0)\n",
        "        axs[i + 1].imshow(mask.squeeze().cpu().numpy(), cmap='gray')\n",
        "        axs[i + 1].axis('off')\n",
        "        axs[i + 1].set_title(f'Mask {ids[i]}')\n",
        "\n",
        "    plt.tight_layout()\n",
        "    plt.show()"
      ],
      "metadata": {
        "execution": {
          "iopub.status.busy": "2024-07-16T11:15:12.432266Z",
          "iopub.execute_input": "2024-07-16T11:15:12.432661Z",
          "iopub.status.idle": "2024-07-16T11:15:12.440689Z",
          "shell.execute_reply.started": "2024-07-16T11:15:12.432633Z",
          "shell.execute_reply": "2024-07-16T11:15:12.439513Z"
        },
        "trusted": true,
        "id": "QNUO0OdEskkf"
      },
      "execution_count": 43,
      "outputs": []
    },
    {
      "cell_type": "code",
      "source": [
        "class USIS10K(data.Dataset):\n",
        "    def __init__(self, root_dir, train=True, class_type=\"multi_class\", transform=None):\n",
        "        \"\"\"Initializes a dataset containing images and labels.\"\"\"\n",
        "        super().__init__()\n",
        "\n",
        "        self.transform = transform\n",
        "        self.train = train\n",
        "\n",
        "        self.class_type = class_type\n",
        "        self.annotations_dir = os.path.join(root_dir, 'USIS10K', class_type + '_annotations')\n",
        "\n",
        "        if(train):\n",
        "            self.root_dir = os.path.join(root_dir, 'USIS10K', 'train')\n",
        "            self.annotations_file = os.path.join(self.annotations_dir, class_type + '_train_annotations.json')\n",
        "        else:\n",
        "            self.root_dir = os.path.join(root_dir, 'USIS10K', 'test')\n",
        "            self.annotations_file = os.path.join(self.annotations_dir, class_type + '_test_annotations.json')\n",
        "\n",
        "        # Images\n",
        "\n",
        "        with open(self.annotations_file, 'r') as f:\n",
        "            self.image_info = json.load(f)['images']\n",
        "\n",
        "        # Annotations\n",
        "\n",
        "        with open(self.annotations_file, 'r') as f:\n",
        "            self.annotations = json.load(f)['annotations']\n",
        "\n",
        "        # Group annotations by image_id\n",
        "        self.image_id_to_annotations = {}\n",
        "        for annotation in self.annotations:\n",
        "            if annotation['image_id'] not in self.image_id_to_annotations:\n",
        "                self.image_id_to_annotations[annotation['image_id']] = []\n",
        "            self.image_id_to_annotations[annotation['image_id']].append(annotation)\n",
        "\n",
        "    def __len__(self):\n",
        "        \"\"\"Returns the size of the dataset.\"\"\"\n",
        "        return len(self.image_info)\n",
        "\n",
        "\n",
        "        return mask\n",
        "    def get_segmentation_mask(self, image_id, image_size):\n",
        "        annotations = self.image_id_to_annotations[image_id]\n",
        "\n",
        "        mask = Image.new('L', image_size, 0) # Create a blank mask\n",
        "        draw = ImageDraw.Draw(mask)\n",
        "\n",
        "\n",
        "        for annotation in annotations:\n",
        "            for segmentation in annotation['segmentation']:\n",
        "                polygon = [(segmentation[i], segmentation[i + 1]) for i in range(0, len(segmentation), 2)]\n",
        "                draw.polygon(polygon, outline=1, fill=1) # Draw the polygon on the mask\n",
        "\n",
        "        return mask\n",
        "    def get_segmentation_masks(self, image_id, image_size):\n",
        "        annotations = self.image_id_to_annotations[image_id]\n",
        "        masks = []\n",
        "        ids = []\n",
        "        mask_transform = transforms.Compose([\n",
        "            transforms.Resize((64, 64)),  # Normalize the images shapes\n",
        "            transforms.ToTensor(),\n",
        "        ])\n",
        "\n",
        "        for annotation in annotations:\n",
        "            mask = Image.new('L', image_size, 0) # Create a blank mask\n",
        "            draw = ImageDraw.Draw(mask)\n",
        "            for segmentation in annotation['segmentation']:\n",
        "                polygon = [(segmentation[i], segmentation[i + 1]) for i in range(0, len(segmentation), 2)]\n",
        "                draw.polygon(polygon, outline=1, fill=1) # Draw the polygon on the mask\n",
        "            mask = mask_transform(mask)\n",
        "            masks.append(mask)\n",
        "            ids.append(annotation['category_id'])\n",
        "\n",
        "        return masks,ids\n",
        "    def get_ids(self):\n",
        "        image_ids = []\n",
        "        for info in self.image_info:\n",
        "            image_ids.append(info['id'])\n",
        "        return image_ids\n",
        "\n",
        "\n",
        "    def __getitem__(self, index):\n",
        "        \"\"\"Returns the index-th data item of the dataset.\"\"\"\n",
        "\n",
        "        # Load image\n",
        "        filename = os.path.join(self.root_dir, self.image_info[index]['file_name'])\n",
        "\n",
        "        try:\n",
        "            with open(filename, 'rb') as image_file:\n",
        "                image = Image.open(image_file).convert('RGB')\n",
        "                masks,ids = self.get_segmentation_masks(index, image.size)\n",
        "                # Apply transformations\n",
        "                if self.transform:\n",
        "                    image = self.transform(image)\n",
        "                return image, masks,ids\n",
        "\n",
        "        except Exception as e: # In case of corrupted images\n",
        "            print(f\"Error loading image {filename}: {e}\")\n",
        "            return None, None, None"
      ],
      "metadata": {
        "execution": {
          "iopub.status.busy": "2024-07-16T11:15:12.442512Z",
          "iopub.execute_input": "2024-07-16T11:15:12.442909Z",
          "iopub.status.idle": "2024-07-16T11:15:12.458409Z",
          "shell.execute_reply.started": "2024-07-16T11:15:12.442873Z",
          "shell.execute_reply": "2024-07-16T11:15:12.457366Z"
        },
        "trusted": true,
        "id": "nuf4lpmSskkf"
      },
      "execution_count": 44,
      "outputs": []
    },
    {
      "cell_type": "code",
      "source": [
        "transform = transforms.Compose([\n",
        "    transforms.Resize((64, 64)), # Normalize the images shapes\n",
        "    transforms.ToTensor(),\n",
        "])\n",
        "\n",
        "dataset_path = \"/kaggle/input/usis10k\"\n",
        "\n",
        "trainset = USIS10K(dataset_path, train=True, class_type=\"multi_class\", transform=transform)\n",
        "testset = USIS10K(dataset_path, train=False, class_type=\"multi_class\", transform=transform)"
      ],
      "metadata": {
        "execution": {
          "iopub.status.busy": "2024-07-16T11:15:12.461813Z",
          "iopub.execute_input": "2024-07-16T11:15:12.462329Z",
          "iopub.status.idle": "2024-07-16T11:15:16.773716Z",
          "shell.execute_reply.started": "2024-07-16T11:15:12.462286Z",
          "shell.execute_reply": "2024-07-16T11:15:16.77234Z"
        },
        "trusted": true,
        "id": "oRPfItrvskkg"
      },
      "execution_count": 45,
      "outputs": []
    },
    {
      "cell_type": "code",
      "source": [
        "trainloader = data.DataLoader(trainset, batch_size=1, shuffle=True, num_workers=2)\n",
        "testloader = data.DataLoader(testset, batch_size=1, shuffle=True, num_workers=2)\n",
        "\n",
        "# Train set\n",
        "for images, masks, ids in trainloader:\n",
        "    if images is not None:\n",
        "        show_images_with_masks(images[0], masks, ids)\n",
        "        break\n",
        "\n",
        "# Test set\n",
        "for images, masks, ids in testloader:\n",
        "    if images is not None:\n",
        "        show_images_with_masks(images[0], masks, ids)\n",
        "        break"
      ],
      "metadata": {
        "execution": {
          "iopub.status.busy": "2024-07-16T11:15:16.775145Z",
          "iopub.execute_input": "2024-07-16T11:15:16.775592Z",
          "iopub.status.idle": "2024-07-16T11:15:19.526253Z",
          "shell.execute_reply.started": "2024-07-16T11:15:16.775549Z",
          "shell.execute_reply": "2024-07-16T11:15:19.524663Z"
        },
        "trusted": true,
        "id": "1Iy2OUbfskkg",
        "outputId": "1b5528b7-7635-4d45-e47e-30f36bd765ca",
        "colab": {
          "base_uri": "https://localhost:8080/",
          "height": 726
        }
      },
      "execution_count": 50,
      "outputs": [
        {
          "output_type": "stream",
          "name": "stdout",
          "text": [
            "2 2\n"
          ]
        },
        {
          "output_type": "display_data",
          "data": {
            "text/plain": [
              "<Figure size 1500x500 with 3 Axes>"
            ],
            "image/png": "[encoded data removed]"
          },
          "metadata": {}
        },
        {
          "output_type": "stream",
          "name": "stdout",
          "text": [
            "3 3\n"
          ]
        },
        {
          "output_type": "display_data",
          "data": {
            "text/plain": [
              "<Figure size 1500x500 with 4 Axes>"
            ],
            "image/png": "[encoded data removed]"
          },
          "metadata": {}
        }
      ]
    },
    {
      "cell_type": "code",
      "source": [
        "def get_device():\n",
        "    if torch.cuda.is_available():\n",
        "        return torch.device(\"cuda\")\n",
        "    else:\n",
        "        return torch.device(\"cpu\")\n",
        "\n",
        "device = get_device()"
      ],
      "metadata": {
        "execution": {
          "iopub.status.busy": "2024-07-16T11:15:19.528254Z",
          "iopub.execute_input": "2024-07-16T11:15:19.528644Z",
          "iopub.status.idle": "2024-07-16T11:15:19.535016Z",
          "shell.execute_reply.started": "2024-07-16T11:15:19.528608Z",
          "shell.execute_reply": "2024-07-16T11:15:19.533769Z"
        },
        "trusted": true,
        "id": "m624O04hskkh"
      },
      "execution_count": 51,
      "outputs": []
    },
    {
      "cell_type": "code",
      "source": [
        "class UNet(nn.Module):\n",
        "    def __init__(self, in_channels=3, out_channels=7):# 7 outputs for the 7 different labels\n",
        "        super(UNet, self).__init__()\n",
        "\n",
        "        def conv_block(in_channels, out_channels):\n",
        "            return nn.Sequential(\n",
        "                nn.Conv2d(in_channels, out_channels, kernel_size=3, padding=1),\n",
        "                nn.ReLU(inplace=True),\n",
        "                nn.Conv2d(out_channels, out_channels, kernel_size=3, padding=1),\n",
        "                nn.ReLU(inplace=True)\n",
        "            )\n",
        "\n",
        "        def up_conv(in_channels, out_channels):\n",
        "            return nn.ConvTranspose2d(in_channels, out_channels, kernel_size=2, stride=2)\n",
        "\n",
        "        self.encoder1 = conv_block(in_channels, 64)\n",
        "        self.encoder2 = conv_block(64, 128)\n",
        "        self.encoder3 = conv_block(128, 256)\n",
        "        self.encoder4 = conv_block(256, 512)\n",
        "\n",
        "        self.pool = nn.MaxPool2d(kernel_size=2, stride=2)\n",
        "\n",
        "        self.bottleneck = conv_block(512, 1024)\n",
        "\n",
        "        self.upconv4 = up_conv(1024, 512)\n",
        "        self.decoder4 = conv_block(1024, 512)\n",
        "        self.upconv3 = up_conv(512, 256)\n",
        "        self.decoder3 = conv_block(512, 256)\n",
        "        self.upconv2 = up_conv(256, 128)\n",
        "        self.decoder2 = conv_block(256, 128)\n",
        "        self.upconv1 = up_conv(128, 64)\n",
        "        self.decoder1 = conv_block(128, 64)\n",
        "\n",
        "        self.conv_last = nn.Conv2d(64, out_channels, kernel_size=1)\n",
        "\n",
        "    def forward(self, x):\n",
        "        # Encoder\n",
        "        e1 = self.encoder1(x)\n",
        "        e2 = self.encoder2(self.pool(e1))\n",
        "        e3 = self.encoder3(self.pool(e2))\n",
        "        e4 = self.encoder4(self.pool(e3))\n",
        "\n",
        "        # Bottleneck\n",
        "        b = self.bottleneck(self.pool(e4))\n",
        "\n",
        "        # Decoder\n",
        "        d4 = self.upconv4(b)\n",
        "        d4 = torch.cat((d4, e4), dim=1)\n",
        "        d4 = self.decoder4(d4)\n",
        "        d3 = self.upconv3(d4)\n",
        "        d3 = torch.cat((d3, e3), dim=1)\n",
        "        d3 = self.decoder3(d3)\n",
        "        d2 = self.upconv2(d3)\n",
        "        d2 = torch.cat((d2, e2), dim=1)\n",
        "        d2 = self.decoder2(d2)\n",
        "        d1 = self.upconv1(d2)\n",
        "        d1 = torch.cat((d1, e1), dim=1)\n",
        "        d1 = self.decoder1(d1)\n",
        "\n",
        "        out = self.conv_last(d1)\n",
        "\n",
        "        return out"
      ],
      "metadata": {
        "execution": {
          "iopub.status.busy": "2024-07-16T11:15:19.53638Z",
          "iopub.execute_input": "2024-07-16T11:15:19.536759Z",
          "iopub.status.idle": "2024-07-16T11:15:19.552451Z",
          "shell.execute_reply.started": "2024-07-16T11:15:19.536728Z",
          "shell.execute_reply": "2024-07-16T11:15:19.551236Z"
        },
        "trusted": true,
        "id": "0XnLVtYsskki"
      },
      "execution_count": 52,
      "outputs": []
    },
    {
      "cell_type": "code",
      "source": [
        "# Initialize the model\n",
        "model = UNet().to(device)"
      ],
      "metadata": {
        "execution": {
          "iopub.status.busy": "2024-07-16T11:15:19.554621Z",
          "iopub.execute_input": "2024-07-16T11:15:19.555104Z",
          "iopub.status.idle": "2024-07-16T11:15:19.929174Z",
          "shell.execute_reply.started": "2024-07-16T11:15:19.555059Z",
          "shell.execute_reply": "2024-07-16T11:15:19.927948Z"
        },
        "trusted": true,
        "id": "qmtAx15Iskki"
      },
      "execution_count": 53,
      "outputs": []
    },
    {
      "cell_type": "code",
      "source": [
        "pip install torchviz"
      ],
      "metadata": {
        "execution": {
          "iopub.status.busy": "2024-07-16T11:17:50.12261Z",
          "iopub.execute_input": "2024-07-16T11:17:50.122992Z",
          "iopub.status.idle": "2024-07-16T11:18:22.896904Z",
          "shell.execute_reply.started": "2024-07-16T11:17:50.122959Z",
          "shell.execute_reply": "2024-07-16T11:18:22.895177Z"
        },
        "trusted": true,
        "id": "pR-4B3IMskki",
        "outputId": "96a7a64a-4c35-4146-9050-419a40278469",
        "colab": {
          "base_uri": "https://localhost:8080/"
        }
      },
      "execution_count": 54,
      "outputs": [
        {
          "output_type": "stream",
          "name": "stdout",
          "text": [
            "Requirement already satisfied: torchviz in /usr/local/lib/python3.10/dist-packages (0.0.2)\n",
            "Requirement already satisfied: torch in /usr/local/lib/python3.10/dist-packages (from torchviz) (2.3.1+cu121)\n",
            "Requirement already satisfied: graphviz in /usr/local/lib/python3.10/dist-packages (from torchviz) (0.20.3)\n",
            "Requirement already satisfied: filelock in /usr/local/lib/python3.10/dist-packages (from torch->torchviz) (3.15.4)\n",
            "Requirement already satisfied: typing-extensions>=4.8.0 in /usr/local/lib/python3.10/dist-packages (from torch->torchviz) (4.12.2)\n",
            "Requirement already satisfied: sympy in /usr/local/lib/python3.10/dist-packages (from torch->torchviz) (1.13.1)\n",
            "Requirement already satisfied: networkx in /usr/local/lib/python3.10/dist-packages (from torch->torchviz) (3.3)\n",
            "Requirement already satisfied: jinja2 in /usr/local/lib/python3.10/dist-packages (from torch->torchviz) (3.1.4)\n",
            "Requirement already satisfied: fsspec in /usr/local/lib/python3.10/dist-packages (from torch->torchviz) (2024.6.1)\n",
            "Requirement already satisfied: nvidia-cuda-nvrtc-cu12==12.1.105 in /usr/local/lib/python3.10/dist-packages (from torch->torchviz) (12.1.105)\n",
            "Requirement already satisfied: nvidia-cuda-runtime-cu12==12.1.105 in /usr/local/lib/python3.10/dist-packages (from torch->torchviz) (12.1.105)\n",
            "Requirement already satisfied: nvidia-cuda-cupti-cu12==12.1.105 in /usr/local/lib/python3.10/dist-packages (from torch->torchviz) (12.1.105)\n",
            "Requirement already satisfied: nvidia-cudnn-cu12==8.9.2.26 in /usr/local/lib/python3.10/dist-packages (from torch->torchviz) (8.9.2.26)\n",
            "Requirement already satisfied: nvidia-cublas-cu12==12.1.3.1 in /usr/local/lib/python3.10/dist-packages (from torch->torchviz) (12.1.3.1)\n",
            "Requirement already satisfied: nvidia-cufft-cu12==11.0.2.54 in /usr/local/lib/python3.10/dist-packages (from torch->torchviz) (11.0.2.54)\n",
            "Requirement already satisfied: nvidia-curand-cu12==10.3.2.106 in /usr/local/lib/python3.10/dist-packages (from torch->torchviz) (10.3.2.106)\n",
            "Requirement already satisfied: nvidia-cusolver-cu12==11.4.5.107 in /usr/local/lib/python3.10/dist-packages (from torch->torchviz) (11.4.5.107)\n",
            "Requirement already satisfied: nvidia-cusparse-cu12==12.1.0.106 in /usr/local/lib/python3.10/dist-packages (from torch->torchviz) (12.1.0.106)\n",
            "Requirement already satisfied: nvidia-nccl-cu12==2.20.5 in /usr/local/lib/python3.10/dist-packages (from torch->torchviz) (2.20.5)\n",
            "Requirement already satisfied: nvidia-nvtx-cu12==12.1.105 in /usr/local/lib/python3.10/dist-packages (from torch->torchviz) (12.1.105)\n",
            "Requirement already satisfied: triton==2.3.1 in /usr/local/lib/python3.10/dist-packages (from torch->torchviz) (2.3.1)\n",
            "Requirement already satisfied: nvidia-nvjitlink-cu12 in /usr/local/lib/python3.10/dist-packages (from nvidia-cusolver-cu12==11.4.5.107->torch->torchviz) (12.6.20)\n",
            "Requirement already satisfied: MarkupSafe>=2.0 in /usr/local/lib/python3.10/dist-packages (from jinja2->torch->torchviz) (2.1.5)\n",
            "Requirement already satisfied: mpmath<1.4,>=1.1.0 in /usr/local/lib/python3.10/dist-packages (from sympy->torch->torchviz) (1.3.0)\n"
          ]
        }
      ]
    },
    {
      "cell_type": "code",
      "source": [
        "from torchsummary import summary\n",
        "from torchviz import make_dot\n",
        "\n",
        "summary(model, (3, 64, 64))\n",
        "\n",
        "dummy_input = torch.randn(1, 3, 64, 64).to(device)  # Example input tensor\n",
        "output = model(dummy_input)\n",
        "make_dot(output, params=dict(model.named_parameters())).render(\"unet_model\", format=\"png\")"
      ],
      "metadata": {
        "execution": {
          "iopub.status.busy": "2024-07-16T11:18:22.898737Z",
          "iopub.execute_input": "2024-07-16T11:18:22.899148Z",
          "iopub.status.idle": "2024-07-16T11:18:23.346994Z",
          "shell.execute_reply.started": "2024-07-16T11:18:22.899112Z",
          "shell.execute_reply": "2024-07-16T11:18:23.344633Z"
        },
        "trusted": true,
        "id": "gETcBSrBskkj",
        "outputId": "4b159c4a-dacf-4680-9c1f-4dc8f0f9f601",
        "colab": {
          "base_uri": "https://localhost:8080/",
          "height": 1000
        }
      },
      "execution_count": 55,
      "outputs": [
        {
          "output_type": "stream",
          "name": "stdout",
          "text": [
            "----------------------------------------------------------------\n",
            "        Layer (type)               Output Shape         Param #\n",
            "================================================================\n",
            "            Conv2d-1           [-1, 64, 64, 64]           1,792\n",
            "              ReLU-2           [-1, 64, 64, 64]               0\n",
            "            Conv2d-3           [-1, 64, 64, 64]          36,928\n",
            "              ReLU-4           [-1, 64, 64, 64]               0\n",
            "         MaxPool2d-5           [-1, 64, 32, 32]               0\n",
            "            Conv2d-6          [-1, 128, 32, 32]          73,856\n",
            "              ReLU-7          [-1, 128, 32, 32]               0\n",
            "            Conv2d-8          [-1, 128, 32, 32]         147,584\n",
            "              ReLU-9          [-1, 128, 32, 32]               0\n",
            "        MaxPool2d-10          [-1, 128, 16, 16]               0\n",
            "           Conv2d-11          [-1, 256, 16, 16]         295,168\n",
            "             ReLU-12          [-1, 256, 16, 16]               0\n",
            "           Conv2d-13          [-1, 256, 16, 16]         590,080\n",
            "             ReLU-14          [-1, 256, 16, 16]               0\n",
            "        MaxPool2d-15            [-1, 256, 8, 8]               0\n",
            "           Conv2d-16            [-1, 512, 8, 8]       1,180,160\n",
            "             ReLU-17            [-1, 512, 8, 8]               0\n",
            "           Conv2d-18            [-1, 512, 8, 8]       2,359,808\n",
            "             ReLU-19            [-1, 512, 8, 8]               0\n",
            "        MaxPool2d-20            [-1, 512, 4, 4]               0\n",
            "           Conv2d-21           [-1, 1024, 4, 4]       4,719,616\n",
            "             ReLU-22           [-1, 1024, 4, 4]               0\n",
            "           Conv2d-23           [-1, 1024, 4, 4]       9,438,208\n",
            "             ReLU-24           [-1, 1024, 4, 4]               0\n",
            "  ConvTranspose2d-25            [-1, 512, 8, 8]       2,097,664\n",
            "           Conv2d-26            [-1, 512, 8, 8]       4,719,104\n",
            "             ReLU-27            [-1, 512, 8, 8]               0\n",
            "           Conv2d-28            [-1, 512, 8, 8]       2,359,808\n",
            "             ReLU-29            [-1, 512, 8, 8]               0\n",
            "  ConvTranspose2d-30          [-1, 256, 16, 16]         524,544\n",
            "           Conv2d-31          [-1, 256, 16, 16]       1,179,904\n",
            "             ReLU-32          [-1, 256, 16, 16]               0\n",
            "           Conv2d-33          [-1, 256, 16, 16]         590,080\n",
            "             ReLU-34          [-1, 256, 16, 16]               0\n",
            "  ConvTranspose2d-35          [-1, 128, 32, 32]         131,200\n",
            "           Conv2d-36          [-1, 128, 32, 32]         295,040\n",
            "             ReLU-37          [-1, 128, 32, 32]               0\n",
            "           Conv2d-38          [-1, 128, 32, 32]         147,584\n",
            "             ReLU-39          [-1, 128, 32, 32]               0\n",
            "  ConvTranspose2d-40           [-1, 64, 64, 64]          32,832\n",
            "           Conv2d-41           [-1, 64, 64, 64]          73,792\n",
            "             ReLU-42           [-1, 64, 64, 64]               0\n",
            "           Conv2d-43           [-1, 64, 64, 64]          36,928\n",
            "             ReLU-44           [-1, 64, 64, 64]               0\n",
            "           Conv2d-45            [-1, 1, 64, 64]              65\n",
            "================================================================\n",
            "Total params: 31,031,745\n",
            "Trainable params: 31,031,745\n",
            "Non-trainable params: 0\n",
            "----------------------------------------------------------------\n",
            "Input size (MB): 0.05\n",
            "Forward/backward pass size (MB): 35.22\n",
            "Params size (MB): 118.38\n",
            "Estimated Total Size (MB): 153.64\n",
            "----------------------------------------------------------------\n"
          ]
        },
        {
          "output_type": "execute_result",
          "data": {
            "text/plain": [
              "'unet_model.png'"
            ],
            "application/vnd.google.colaboratory.intrinsic+json": {
              "type": "string"
            }
          },
          "metadata": {},
          "execution_count": 55
        }
      ]
    },
    {
      "cell_type": "code",
      "source": [
        "# Loss function, and optimizer\n",
        "criterion = nn.BCEWithLogitsLoss()\n",
        "optimizer = optim.Adam(model.parameters(), lr=1e-3)"
      ],
      "metadata": {
        "execution": {
          "iopub.status.busy": "2024-07-16T11:18:23.348689Z",
          "iopub.status.idle": "2024-07-16T11:18:23.349397Z",
          "shell.execute_reply.started": "2024-07-16T11:18:23.349068Z",
          "shell.execute_reply": "2024-07-16T11:18:23.349099Z"
        },
        "trusted": true,
        "id": "SnSyF72askkj"
      },
      "execution_count": 56,
      "outputs": []
    },
    {
      "cell_type": "code",
      "source": [
        "!pip install tensorboard"
      ],
      "metadata": {
        "id": "UDv5IkrNstBu",
        "outputId": "c5640c57-4a1d-4935-a56b-24c2377caf04",
        "colab": {
          "base_uri": "https://localhost:8080/"
        }
      },
      "execution_count": 57,
      "outputs": [
        {
          "output_type": "stream",
          "name": "stdout",
          "text": [
            "Requirement already satisfied: tensorboard in /usr/local/lib/python3.10/dist-packages (2.17.0)\n",
            "Requirement already satisfied: absl-py>=0.4 in /usr/local/lib/python3.10/dist-packages (from tensorboard) (1.4.0)\n",
            "Requirement already satisfied: grpcio>=1.48.2 in /usr/local/lib/python3.10/dist-packages (from tensorboard) (1.64.1)\n",
            "Requirement already satisfied: markdown>=2.6.8 in /usr/local/lib/python3.10/dist-packages (from tensorboard) (3.6)\n",
            "Requirement already satisfied: numpy>=1.12.0 in /usr/local/lib/python3.10/dist-packages (from tensorboard) (1.26.4)\n",
            "Requirement already satisfied: protobuf!=4.24.0,<5.0.0,>=3.19.6 in /usr/local/lib/python3.10/dist-packages (from tensorboard) (3.20.3)\n",
            "Requirement already satisfied: setuptools>=41.0.0 in /usr/local/lib/python3.10/dist-packages (from tensorboard) (71.0.4)\n",
            "Requirement already satisfied: six>1.9 in /usr/local/lib/python3.10/dist-packages (from tensorboard) (1.16.0)\n",
            "Requirement already satisfied: tensorboard-data-server<0.8.0,>=0.7.0 in /usr/local/lib/python3.10/dist-packages (from tensorboard) (0.7.2)\n",
            "Requirement already satisfied: werkzeug>=1.0.1 in /usr/local/lib/python3.10/dist-packages (from tensorboard) (3.0.3)\n",
            "Requirement already satisfied: MarkupSafe>=2.1.1 in /usr/local/lib/python3.10/dist-packages (from werkzeug>=1.0.1->tensorboard) (2.1.5)\n"
          ]
        }
      ]
    },
    {
      "cell_type": "code",
      "source": [
        "from torch.utils.tensorboard import SummaryWriter\n",
        "writer = SummaryWriter()\n",
        "\n",
        "num_epochs = 10\n",
        "\n",
        "for epoch in range(num_epochs):\n",
        "    model.train()\n",
        "    running_loss = 0.0\n",
        "\n",
        "    for images, masks,ids in trainloader:\n",
        "        images = images.to(device)\n",
        "        masks = torch.stack(masks).squeeze(1).to(device)\n",
        "        ids = torch.tensor(ids).to(device)\n",
        "\n",
        "        optimizer.zero_grad()\n",
        "        outputs = model(images)\n",
        "\n",
        "        loss = criterion(outputs, masks)\n",
        "        loss.backward()\n",
        "        optimizer.step()\n",
        "\n",
        "        running_loss += loss.item() * images.size(0)\n",
        "\n",
        "\n",
        "    epoch_loss = running_loss / len(trainloader.dataset)\n",
        "    print(f'Epoch {epoch+1}/{num_epochs}, Loss: {epoch_loss:.4f}')\n",
        "    writer.add_scalar('Training Loss', epoch_loss, epoch)\n"
      ],
      "metadata": {
        "execution": {
          "iopub.status.busy": "2024-07-16T11:18:23.352581Z",
          "iopub.status.idle": "2024-07-16T11:18:23.353311Z",
          "shell.execute_reply.started": "2024-07-16T11:18:23.352958Z",
          "shell.execute_reply": "2024-07-16T11:18:23.352992Z"
        },
        "trusted": true,
        "id": "vpHEhSrpskkj",
        "outputId": "60feb6bf-1e23-43da-8155-79f5a9865f9f",
        "colab": {
          "base_uri": "https://localhost:8080/",
          "height": 428
        }
      },
      "execution_count": 58,
      "outputs": [
        {
          "output_type": "stream",
          "name": "stderr",
          "text": [
            "/usr/lib/python3.10/multiprocessing/popen_fork.py:66: RuntimeWarning: os.fork() was called. os.fork() is incompatible with multithreaded code, and JAX is multithreaded, so this will likely lead to a deadlock.\n",
            "  self.pid = os.fork()\n"
          ]
        },
        {
          "output_type": "error",
          "ename": "ValueError",
          "evalue": "Target size (torch.Size([2, 1, 64, 64])) must be the same as input size (torch.Size([1, 1, 64, 64]))",
          "traceback": [
            "\u001b[0;31m---------------------------------------------------------------------------\u001b[0m",
            "\u001b[0;31mValueError\u001b[0m                                Traceback (most recent call last)",
            "\u001b[0;32m<ipython-input-58-a56ba8e77608>\u001b[0m in \u001b[0;36m<cell line: 6>\u001b[0;34m()\u001b[0m\n\u001b[1;32m     16\u001b[0m         \u001b[0moutputs\u001b[0m \u001b[0;34m=\u001b[0m \u001b[0mmodel\u001b[0m\u001b[0;34m(\u001b[0m\u001b[0mimages\u001b[0m\u001b[0;34m)\u001b[0m\u001b[0;34m\u001b[0m\u001b[0;34m\u001b[0m\u001b[0m\n\u001b[1;32m     17\u001b[0m \u001b[0;34m\u001b[0m\u001b[0m\n\u001b[0;32m---> 18\u001b[0;31m         \u001b[0mloss\u001b[0m \u001b[0;34m=\u001b[0m \u001b[0mcriterion\u001b[0m\u001b[0;34m(\u001b[0m\u001b[0moutputs\u001b[0m\u001b[0;34m,\u001b[0m \u001b[0mmasks\u001b[0m\u001b[0;34m)\u001b[0m\u001b[0;34m\u001b[0m\u001b[0;34m\u001b[0m\u001b[0m\n\u001b[0m\u001b[1;32m     19\u001b[0m         \u001b[0mloss\u001b[0m\u001b[0;34m.\u001b[0m\u001b[0mbackward\u001b[0m\u001b[0;34m(\u001b[0m\u001b[0;34m)\u001b[0m\u001b[0;34m\u001b[0m\u001b[0;34m\u001b[0m\u001b[0m\n\u001b[1;32m     20\u001b[0m         \u001b[0moptimizer\u001b[0m\u001b[0;34m.\u001b[0m\u001b[0mstep\u001b[0m\u001b[0;34m(\u001b[0m\u001b[0;34m)\u001b[0m\u001b[0;34m\u001b[0m\u001b[0;34m\u001b[0m\u001b[0m\n",
            "\u001b[0;32m/usr/local/lib/python3.10/dist-packages/torch/nn/modules/module.py\u001b[0m in \u001b[0;36m_wrapped_call_impl\u001b[0;34m(self, *args, **kwargs)\u001b[0m\n\u001b[1;32m   1530\u001b[0m             \u001b[0;32mreturn\u001b[0m \u001b[0mself\u001b[0m\u001b[0;34m.\u001b[0m\u001b[0m_compiled_call_impl\u001b[0m\u001b[0;34m(\u001b[0m\u001b[0;34m*\u001b[0m\u001b[0margs\u001b[0m\u001b[0;34m,\u001b[0m \u001b[0;34m**\u001b[0m\u001b[0mkwargs\u001b[0m\u001b[0;34m)\u001b[0m  \u001b[0;31m# type: ignore[misc]\u001b[0m\u001b[0;34m\u001b[0m\u001b[0;34m\u001b[0m\u001b[0m\n\u001b[1;32m   1531\u001b[0m         \u001b[0;32melse\u001b[0m\u001b[0;34m:\u001b[0m\u001b[0;34m\u001b[0m\u001b[0;34m\u001b[0m\u001b[0m\n\u001b[0;32m-> 1532\u001b[0;31m             \u001b[0;32mreturn\u001b[0m \u001b[0mself\u001b[0m\u001b[0;34m.\u001b[0m\u001b[0m_call_impl\u001b[0m\u001b[0;34m(\u001b[0m\u001b[0;34m*\u001b[0m\u001b[0margs\u001b[0m\u001b[0;34m,\u001b[0m \u001b[0;34m**\u001b[0m\u001b[0mkwargs\u001b[0m\u001b[0;34m)\u001b[0m\u001b[0;34m\u001b[0m\u001b[0;34m\u001b[0m\u001b[0m\n\u001b[0m\u001b[1;32m   1533\u001b[0m \u001b[0;34m\u001b[0m\u001b[0m\n\u001b[1;32m   1534\u001b[0m     \u001b[0;32mdef\u001b[0m \u001b[0m_call_impl\u001b[0m\u001b[0;34m(\u001b[0m\u001b[0mself\u001b[0m\u001b[0;34m,\u001b[0m \u001b[0;34m*\u001b[0m\u001b[0margs\u001b[0m\u001b[0;34m,\u001b[0m \u001b[0;34m**\u001b[0m\u001b[0mkwargs\u001b[0m\u001b[0;34m)\u001b[0m\u001b[0;34m:\u001b[0m\u001b[0;34m\u001b[0m\u001b[0;34m\u001b[0m\u001b[0m\n",
            "\u001b[0;32m/usr/local/lib/python3.10/dist-packages/torch/nn/modules/module.py\u001b[0m in \u001b[0;36m_call_impl\u001b[0;34m(self, *args, **kwargs)\u001b[0m\n\u001b[1;32m   1539\u001b[0m                 \u001b[0;32mor\u001b[0m \u001b[0m_global_backward_pre_hooks\u001b[0m \u001b[0;32mor\u001b[0m \u001b[0m_global_backward_hooks\u001b[0m\u001b[0;34m\u001b[0m\u001b[0;34m\u001b[0m\u001b[0m\n\u001b[1;32m   1540\u001b[0m                 or _global_forward_hooks or _global_forward_pre_hooks):\n\u001b[0;32m-> 1541\u001b[0;31m             \u001b[0;32mreturn\u001b[0m \u001b[0mforward_call\u001b[0m\u001b[0;34m(\u001b[0m\u001b[0;34m*\u001b[0m\u001b[0margs\u001b[0m\u001b[0;34m,\u001b[0m \u001b[0;34m**\u001b[0m\u001b[0mkwargs\u001b[0m\u001b[0;34m)\u001b[0m\u001b[0;34m\u001b[0m\u001b[0;34m\u001b[0m\u001b[0m\n\u001b[0m\u001b[1;32m   1542\u001b[0m \u001b[0;34m\u001b[0m\u001b[0m\n\u001b[1;32m   1543\u001b[0m         \u001b[0;32mtry\u001b[0m\u001b[0;34m:\u001b[0m\u001b[0;34m\u001b[0m\u001b[0;34m\u001b[0m\u001b[0m\n",
            "\u001b[0;32m/usr/local/lib/python3.10/dist-packages/torch/nn/modules/loss.py\u001b[0m in \u001b[0;36mforward\u001b[0;34m(self, input, target)\u001b[0m\n\u001b[1;32m    729\u001b[0m \u001b[0;34m\u001b[0m\u001b[0m\n\u001b[1;32m    730\u001b[0m     \u001b[0;32mdef\u001b[0m \u001b[0mforward\u001b[0m\u001b[0;34m(\u001b[0m\u001b[0mself\u001b[0m\u001b[0;34m,\u001b[0m \u001b[0minput\u001b[0m\u001b[0;34m:\u001b[0m \u001b[0mTensor\u001b[0m\u001b[0;34m,\u001b[0m \u001b[0mtarget\u001b[0m\u001b[0;34m:\u001b[0m \u001b[0mTensor\u001b[0m\u001b[0;34m)\u001b[0m \u001b[0;34m->\u001b[0m \u001b[0mTensor\u001b[0m\u001b[0;34m:\u001b[0m\u001b[0;34m\u001b[0m\u001b[0;34m\u001b[0m\u001b[0m\n\u001b[0;32m--> 731\u001b[0;31m         return F.binary_cross_entropy_with_logits(input, target,\n\u001b[0m\u001b[1;32m    732\u001b[0m                                                   \u001b[0mself\u001b[0m\u001b[0;34m.\u001b[0m\u001b[0mweight\u001b[0m\u001b[0;34m,\u001b[0m\u001b[0;34m\u001b[0m\u001b[0;34m\u001b[0m\u001b[0m\n\u001b[1;32m    733\u001b[0m                                                   \u001b[0mpos_weight\u001b[0m\u001b[0;34m=\u001b[0m\u001b[0mself\u001b[0m\u001b[0;34m.\u001b[0m\u001b[0mpos_weight\u001b[0m\u001b[0;34m,\u001b[0m\u001b[0;34m\u001b[0m\u001b[0;34m\u001b[0m\u001b[0m\n",
            "\u001b[0;32m/usr/local/lib/python3.10/dist-packages/torch/nn/functional.py\u001b[0m in \u001b[0;36mbinary_cross_entropy_with_logits\u001b[0;34m(input, target, weight, size_average, reduce, reduction, pos_weight)\u001b[0m\n\u001b[1;32m   3222\u001b[0m \u001b[0;34m\u001b[0m\u001b[0m\n\u001b[1;32m   3223\u001b[0m     \u001b[0;32mif\u001b[0m \u001b[0;32mnot\u001b[0m \u001b[0;34m(\u001b[0m\u001b[0mtarget\u001b[0m\u001b[0;34m.\u001b[0m\u001b[0msize\u001b[0m\u001b[0;34m(\u001b[0m\u001b[0;34m)\u001b[0m \u001b[0;34m==\u001b[0m \u001b[0minput\u001b[0m\u001b[0;34m.\u001b[0m\u001b[0msize\u001b[0m\u001b[0;34m(\u001b[0m\u001b[0;34m)\u001b[0m\u001b[0;34m)\u001b[0m\u001b[0;34m:\u001b[0m\u001b[0;34m\u001b[0m\u001b[0;34m\u001b[0m\u001b[0m\n\u001b[0;32m-> 3224\u001b[0;31m         \u001b[0;32mraise\u001b[0m \u001b[0mValueError\u001b[0m\u001b[0;34m(\u001b[0m\u001b[0;34mf\"Target size ({target.size()}) must be the same as input size ({input.size()})\"\u001b[0m\u001b[0;34m)\u001b[0m\u001b[0;34m\u001b[0m\u001b[0;34m\u001b[0m\u001b[0m\n\u001b[0m\u001b[1;32m   3225\u001b[0m \u001b[0;34m\u001b[0m\u001b[0m\n\u001b[1;32m   3226\u001b[0m     \u001b[0;32mreturn\u001b[0m \u001b[0mtorch\u001b[0m\u001b[0;34m.\u001b[0m\u001b[0mbinary_cross_entropy_with_logits\u001b[0m\u001b[0;34m(\u001b[0m\u001b[0minput\u001b[0m\u001b[0;34m,\u001b[0m \u001b[0mtarget\u001b[0m\u001b[0;34m,\u001b[0m \u001b[0mweight\u001b[0m\u001b[0;34m,\u001b[0m \u001b[0mpos_weight\u001b[0m\u001b[0;34m,\u001b[0m \u001b[0mreduction_enum\u001b[0m\u001b[0;34m)\u001b[0m\u001b[0;34m\u001b[0m\u001b[0;34m\u001b[0m\u001b[0m\n",
            "\u001b[0;31mValueError\u001b[0m: Target size (torch.Size([2, 1, 64, 64])) must be the same as input size (torch.Size([1, 1, 64, 64]))"
          ]
        }
      ]
    },
    {
      "cell_type": "code",
      "source": [
        "model.eval()\n",
        "test_running_loss = 0.0\n",
        "with torch.no_grad():\n",
        "    for images, masks in testloader:\n",
        "        images = images.to(device)\n",
        "        masks = masks.to(device)\n",
        "\n",
        "        outputs = model(images)\n",
        "        loss = criterion(outputs, masks)\n",
        "\n",
        "        test_running_loss += loss.item() * images.size(0)\n",
        "\n",
        "test_loss = test_running_loss / len(testloader.dataset)\n",
        "print(f'Test Loss: {test_loss:.4f}')\n",
        "writer.add_scalar('Test Loss', test_loss, num_epochs)\n",
        "\n",
        "writer.close()"
      ],
      "metadata": {
        "execution": {
          "iopub.status.busy": "2024-07-16T11:18:23.354992Z",
          "iopub.status.idle": "2024-07-16T11:18:23.355633Z",
          "shell.execute_reply.started": "2024-07-16T11:18:23.355304Z",
          "shell.execute_reply": "2024-07-16T11:18:23.355332Z"
        },
        "trusted": true,
        "id": "8D8qfEwBskkj"
      },
      "execution_count": null,
      "outputs": []
    },
    {
      "cell_type": "code",
      "source": [
        "%load_ext tensorboard\n",
        "%tensorboard --logdir runs"
      ],
      "metadata": {
        "id": "I-ZaUXmOyJw9"
      },
      "execution_count": null,
      "outputs": []
    },
    {
      "cell_type": "code",
      "source": [],
      "metadata": {
        "id": "5tz5d2bn6P6-"
      },
      "execution_count": null,
      "outputs": []
    },
    {
      "cell_type": "code",
      "source": [],
      "metadata": {
        "id": "XT2IEWf6yL4P"
      },
      "execution_count": null,
      "outputs": []
    }
  ]
}